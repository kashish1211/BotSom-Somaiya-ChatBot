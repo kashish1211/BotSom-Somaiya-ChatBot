{
  "nbformat": 4,
  "nbformat_minor": 0,
  "metadata": {
    "colab": {
      "provenance": []
    },
    "kernelspec": {
      "name": "python3",
      "display_name": "Python 3"
    },
    "language_info": {
      "name": "python"
    }
  },
  "cells": [
    {
      "cell_type": "code",
      "execution_count": 11,
      "metadata": {
        "id": "LNq7FFkmVu3H",
        "colab": {
          "base_uri": "https://localhost:8080/"
        },
        "outputId": "e18e6540-7cd4-46d8-950e-6258008a3936"
      },
      "outputs": [
        {
          "output_type": "stream",
          "name": "stderr",
          "text": [
            "[nltk_data] Downloading package punkt to /root/nltk_data...\n",
            "[nltk_data]   Package punkt is already up-to-date!\n",
            "[nltk_data] Downloading package wordnet to /root/nltk_data...\n",
            "[nltk_data]   Package wordnet is already up-to-date!\n"
          ]
        },
        {
          "output_type": "stream",
          "name": "stdout",
          "text": [
            "Looking in indexes: https://pypi.org/simple, https://us-python.pkg.dev/colab-wheels/public/simple/\n",
            "Requirement already satisfied: imbalanced-learn in /usr/local/lib/python3.9/dist-packages (0.10.1)\n",
            "Requirement already satisfied: scipy>=1.3.2 in /usr/local/lib/python3.9/dist-packages (from imbalanced-learn) (1.10.1)\n",
            "Requirement already satisfied: threadpoolctl>=2.0.0 in /usr/local/lib/python3.9/dist-packages (from imbalanced-learn) (3.1.0)\n",
            "Requirement already satisfied: joblib>=1.1.1 in /usr/local/lib/python3.9/dist-packages (from imbalanced-learn) (1.2.0)\n",
            "Requirement already satisfied: numpy>=1.17.3 in /usr/local/lib/python3.9/dist-packages (from imbalanced-learn) (1.22.4)\n",
            "Requirement already satisfied: scikit-learn>=1.0.2 in /usr/local/lib/python3.9/dist-packages (from imbalanced-learn) (1.2.2)\n"
          ]
        }
      ],
      "source": [
        "# importing the necessary libraries\n",
        "import nltk\n",
        "nltk.download('punkt')\n",
        "nltk.download('wordnet')\n",
        "from nltk.stem import PorterStemmer\n",
        "PS = PorterStemmer()\n",
        "from nltk import WordNetLemmatizer\n",
        "lemmatizer = WordNetLemmatizer()\n",
        "import time\n",
        "import numpy as np\n",
        "import pickle\n",
        "import os\n",
        "import json\n",
        "from string import punctuation\n",
        "punctuation = list(punctuation)\n",
        "punctuation.append(\"'s\")\n",
        "punctuation.append(\"'m\")\n",
        "punctuation.append(\"'d\")\n",
        "punctuation.append(\"'ve\")\n",
        "from sklearn.feature_extraction.text import CountVectorizer\n",
        "import pandas as pd\n",
        "import warnings\n",
        "warnings.filterwarnings('ignore')\n",
        "!pip install imbalanced-learn\n",
        "from sklearn.naive_bayes import MultinomialNB\n",
        "from sklearn.linear_model import SGDClassifier\n",
        "from sklearn.feature_extraction.text import TfidfVectorizer\n",
        "from sklearn.neighbors import KNeighborsClassifier\n",
        "from sklearn.metrics import classification_report\n",
        "from sklearn.model_selection import train_test_split\n",
        "from sklearn.ensemble import RandomForestClassifier \n",
        "from imblearn.over_sampling import SMOTE\n",
        "from imblearn.pipeline import Pipeline\n",
        "over = SMOTE()"
      ]
    },
    {
      "cell_type": "code",
      "source": [
        "#converting the json file to a pandas dataframe\n",
        "with open('intents.json') as file:\n",
        "  data = json.load(file)\n",
        "\n",
        "prompts = []\n",
        "labels = []\n",
        "for intent in data['intents']:\n",
        "  for prompt in intent['prompts']:\n",
        "    prompts.append(prompt)\n",
        "    labels.append(intent['tag'])\n",
        "\n",
        "df = pd.DataFrame({'label': labels,\n",
        "                   'prompts': prompts})\n",
        "df.to_csv('data.csv',index=False)"
      ],
      "metadata": {
        "id": "mmzV70LuoOIY"
      },
      "execution_count": 12,
      "outputs": []
    },
    {
      "cell_type": "code",
      "source": [
        "#Reading the csv file\n",
        "df = pd.read_csv('data.csv')\n",
        "print(df.shape)\n",
        "df.head()"
      ],
      "metadata": {
        "id": "cWqALYLPV9fx",
        "colab": {
          "base_uri": "https://localhost:8080/",
          "height": 223
        },
        "outputId": "aeca56df-1d60-4aa2-dfe0-d76e28b71f6b"
      },
      "execution_count": 4,
      "outputs": [
        {
          "output_type": "stream",
          "name": "stdout",
          "text": [
            "(329, 2)\n"
          ]
        },
        {
          "output_type": "execute_result",
          "data": {
            "text/plain": [
              "      label               prompts\n",
              "0  greeting          Hello there!\n",
              "1  greeting                 Hiiii\n",
              "2  greeting  Hey, how's it going?\n",
              "3  greeting         Anyone there?\n",
              "4  greeting        Hey, stranger!"
            ],
            "text/html": [
              "\n",
              "  <div id=\"df-aac1260b-b46c-40ea-8e63-992230bbd70b\">\n",
              "    <div class=\"colab-df-container\">\n",
              "      <div>\n",
              "<style scoped>\n",
              "    .dataframe tbody tr th:only-of-type {\n",
              "        vertical-align: middle;\n",
              "    }\n",
              "\n",
              "    .dataframe tbody tr th {\n",
              "        vertical-align: top;\n",
              "    }\n",
              "\n",
              "    .dataframe thead th {\n",
              "        text-align: right;\n",
              "    }\n",
              "</style>\n",
              "<table border=\"1\" class=\"dataframe\">\n",
              "  <thead>\n",
              "    <tr style=\"text-align: right;\">\n",
              "      <th></th>\n",
              "      <th>label</th>\n",
              "      <th>prompts</th>\n",
              "    </tr>\n",
              "  </thead>\n",
              "  <tbody>\n",
              "    <tr>\n",
              "      <th>0</th>\n",
              "      <td>greeting</td>\n",
              "      <td>Hello there!</td>\n",
              "    </tr>\n",
              "    <tr>\n",
              "      <th>1</th>\n",
              "      <td>greeting</td>\n",
              "      <td>Hiiii</td>\n",
              "    </tr>\n",
              "    <tr>\n",
              "      <th>2</th>\n",
              "      <td>greeting</td>\n",
              "      <td>Hey, how's it going?</td>\n",
              "    </tr>\n",
              "    <tr>\n",
              "      <th>3</th>\n",
              "      <td>greeting</td>\n",
              "      <td>Anyone there?</td>\n",
              "    </tr>\n",
              "    <tr>\n",
              "      <th>4</th>\n",
              "      <td>greeting</td>\n",
              "      <td>Hey, stranger!</td>\n",
              "    </tr>\n",
              "  </tbody>\n",
              "</table>\n",
              "</div>\n",
              "      <button class=\"colab-df-convert\" onclick=\"convertToInteractive('df-aac1260b-b46c-40ea-8e63-992230bbd70b')\"\n",
              "              title=\"Convert this dataframe to an interactive table.\"\n",
              "              style=\"display:none;\">\n",
              "        \n",
              "  <svg xmlns=\"http://www.w3.org/2000/svg\" height=\"24px\"viewBox=\"0 0 24 24\"\n",
              "       width=\"24px\">\n",
              "    <path d=\"M0 0h24v24H0V0z\" fill=\"none\"/>\n",
              "    <path d=\"M18.56 5.44l.94 2.06.94-2.06 2.06-.94-2.06-.94-.94-2.06-.94 2.06-2.06.94zm-11 1L8.5 8.5l.94-2.06 2.06-.94-2.06-.94L8.5 2.5l-.94 2.06-2.06.94zm10 10l.94 2.06.94-2.06 2.06-.94-2.06-.94-.94-2.06-.94 2.06-2.06.94z\"/><path d=\"M17.41 7.96l-1.37-1.37c-.4-.4-.92-.59-1.43-.59-.52 0-1.04.2-1.43.59L10.3 9.45l-7.72 7.72c-.78.78-.78 2.05 0 2.83L4 21.41c.39.39.9.59 1.41.59.51 0 1.02-.2 1.41-.59l7.78-7.78 2.81-2.81c.8-.78.8-2.07 0-2.86zM5.41 20L4 18.59l7.72-7.72 1.47 1.35L5.41 20z\"/>\n",
              "  </svg>\n",
              "      </button>\n",
              "      \n",
              "  <style>\n",
              "    .colab-df-container {\n",
              "      display:flex;\n",
              "      flex-wrap:wrap;\n",
              "      gap: 12px;\n",
              "    }\n",
              "\n",
              "    .colab-df-convert {\n",
              "      background-color: #E8F0FE;\n",
              "      border: none;\n",
              "      border-radius: 50%;\n",
              "      cursor: pointer;\n",
              "      display: none;\n",
              "      fill: #1967D2;\n",
              "      height: 32px;\n",
              "      padding: 0 0 0 0;\n",
              "      width: 32px;\n",
              "    }\n",
              "\n",
              "    .colab-df-convert:hover {\n",
              "      background-color: #E2EBFA;\n",
              "      box-shadow: 0px 1px 2px rgba(60, 64, 67, 0.3), 0px 1px 3px 1px rgba(60, 64, 67, 0.15);\n",
              "      fill: #174EA6;\n",
              "    }\n",
              "\n",
              "    [theme=dark] .colab-df-convert {\n",
              "      background-color: #3B4455;\n",
              "      fill: #D2E3FC;\n",
              "    }\n",
              "\n",
              "    [theme=dark] .colab-df-convert:hover {\n",
              "      background-color: #434B5C;\n",
              "      box-shadow: 0px 1px 3px 1px rgba(0, 0, 0, 0.15);\n",
              "      filter: drop-shadow(0px 1px 2px rgba(0, 0, 0, 0.3));\n",
              "      fill: #FFFFFF;\n",
              "    }\n",
              "  </style>\n",
              "\n",
              "      <script>\n",
              "        const buttonEl =\n",
              "          document.querySelector('#df-aac1260b-b46c-40ea-8e63-992230bbd70b button.colab-df-convert');\n",
              "        buttonEl.style.display =\n",
              "          google.colab.kernel.accessAllowed ? 'block' : 'none';\n",
              "\n",
              "        async function convertToInteractive(key) {\n",
              "          const element = document.querySelector('#df-aac1260b-b46c-40ea-8e63-992230bbd70b');\n",
              "          const dataTable =\n",
              "            await google.colab.kernel.invokeFunction('convertToInteractive',\n",
              "                                                     [key], {});\n",
              "          if (!dataTable) return;\n",
              "\n",
              "          const docLinkHtml = 'Like what you see? Visit the ' +\n",
              "            '<a target=\"_blank\" href=https://colab.research.google.com/notebooks/data_table.ipynb>data table notebook</a>'\n",
              "            + ' to learn more about interactive tables.';\n",
              "          element.innerHTML = '';\n",
              "          dataTable['output_type'] = 'display_data';\n",
              "          await google.colab.output.renderOutput(dataTable, element);\n",
              "          const docLink = document.createElement('div');\n",
              "          docLink.innerHTML = docLinkHtml;\n",
              "          element.appendChild(docLink);\n",
              "        }\n",
              "      </script>\n",
              "    </div>\n",
              "  </div>\n",
              "  "
            ]
          },
          "metadata": {},
          "execution_count": 4
        }
      ]
    },
    {
      "cell_type": "code",
      "source": [
        "#Preprocessing the text\n",
        "#Tokenization -> converting it to lower case -> removing punctuations (cleaned text) -> Stemming OR Lemmatization \n",
        "def preprocess(text):\n",
        "    tokenized_words = nltk.word_tokenize(text)\n",
        "    tokenized_words = [word.lower() for word in tokenized_words]\n",
        "    cleaned_words = [word for word in tokenized_words if word not in punctuation]\n",
        "    stemmed_words = [PS.stem(word) for word in cleaned_words]\n",
        "    lemmetized_words = [lemmatizer.lemmatize(word,'v') for word in cleaned_words]\n",
        "    return \" \".join(stemmed_words)"
      ],
      "metadata": {
        "id": "SP4XWF5RxtGL"
      },
      "execution_count": 33,
      "outputs": []
    },
    {
      "cell_type": "code",
      "source": [
        "df['Cleaned'] = df['prompts'].apply(preprocess)"
      ],
      "metadata": {
        "id": "4ttZkNiMyAEo"
      },
      "execution_count": 19,
      "outputs": []
    },
    {
      "cell_type": "code",
      "source": [
        "df.tail()"
      ],
      "metadata": {
        "colab": {
          "base_uri": "https://localhost:8080/",
          "height": 206
        },
        "id": "P8ZnMsHUSyTv",
        "outputId": "0cd6e9cd-c3af-44e5-ab01-2eba03a11ce3"
      },
      "execution_count": 20,
      "outputs": [
        {
          "output_type": "execute_result",
          "data": {
            "text/plain": [
              "     label              prompts          Lemmatized             Stemmed  \\\n",
              "324  clubs            societies           societies             societi   \n",
              "325  clubs                teams                team                team   \n",
              "326  clubs  co-curricular clubs  co-curricular club  co-curricular club   \n",
              "327  clubs               groups               group               group   \n",
              "328  clubs     clubs at college     club at college      club at colleg   \n",
              "\n",
              "                 Cleaned  \n",
              "324            societies  \n",
              "325                teams  \n",
              "326  co-curricular clubs  \n",
              "327               groups  \n",
              "328     clubs at college  "
            ],
            "text/html": [
              "\n",
              "  <div id=\"df-3694cf21-9bb5-45ce-93ad-cf1b95505a40\">\n",
              "    <div class=\"colab-df-container\">\n",
              "      <div>\n",
              "<style scoped>\n",
              "    .dataframe tbody tr th:only-of-type {\n",
              "        vertical-align: middle;\n",
              "    }\n",
              "\n",
              "    .dataframe tbody tr th {\n",
              "        vertical-align: top;\n",
              "    }\n",
              "\n",
              "    .dataframe thead th {\n",
              "        text-align: right;\n",
              "    }\n",
              "</style>\n",
              "<table border=\"1\" class=\"dataframe\">\n",
              "  <thead>\n",
              "    <tr style=\"text-align: right;\">\n",
              "      <th></th>\n",
              "      <th>label</th>\n",
              "      <th>prompts</th>\n",
              "      <th>Lemmatized</th>\n",
              "      <th>Stemmed</th>\n",
              "      <th>Cleaned</th>\n",
              "    </tr>\n",
              "  </thead>\n",
              "  <tbody>\n",
              "    <tr>\n",
              "      <th>324</th>\n",
              "      <td>clubs</td>\n",
              "      <td>societies</td>\n",
              "      <td>societies</td>\n",
              "      <td>societi</td>\n",
              "      <td>societies</td>\n",
              "    </tr>\n",
              "    <tr>\n",
              "      <th>325</th>\n",
              "      <td>clubs</td>\n",
              "      <td>teams</td>\n",
              "      <td>team</td>\n",
              "      <td>team</td>\n",
              "      <td>teams</td>\n",
              "    </tr>\n",
              "    <tr>\n",
              "      <th>326</th>\n",
              "      <td>clubs</td>\n",
              "      <td>co-curricular clubs</td>\n",
              "      <td>co-curricular club</td>\n",
              "      <td>co-curricular club</td>\n",
              "      <td>co-curricular clubs</td>\n",
              "    </tr>\n",
              "    <tr>\n",
              "      <th>327</th>\n",
              "      <td>clubs</td>\n",
              "      <td>groups</td>\n",
              "      <td>group</td>\n",
              "      <td>group</td>\n",
              "      <td>groups</td>\n",
              "    </tr>\n",
              "    <tr>\n",
              "      <th>328</th>\n",
              "      <td>clubs</td>\n",
              "      <td>clubs at college</td>\n",
              "      <td>club at college</td>\n",
              "      <td>club at colleg</td>\n",
              "      <td>clubs at college</td>\n",
              "    </tr>\n",
              "  </tbody>\n",
              "</table>\n",
              "</div>\n",
              "      <button class=\"colab-df-convert\" onclick=\"convertToInteractive('df-3694cf21-9bb5-45ce-93ad-cf1b95505a40')\"\n",
              "              title=\"Convert this dataframe to an interactive table.\"\n",
              "              style=\"display:none;\">\n",
              "        \n",
              "  <svg xmlns=\"http://www.w3.org/2000/svg\" height=\"24px\"viewBox=\"0 0 24 24\"\n",
              "       width=\"24px\">\n",
              "    <path d=\"M0 0h24v24H0V0z\" fill=\"none\"/>\n",
              "    <path d=\"M18.56 5.44l.94 2.06.94-2.06 2.06-.94-2.06-.94-.94-2.06-.94 2.06-2.06.94zm-11 1L8.5 8.5l.94-2.06 2.06-.94-2.06-.94L8.5 2.5l-.94 2.06-2.06.94zm10 10l.94 2.06.94-2.06 2.06-.94-2.06-.94-.94-2.06-.94 2.06-2.06.94z\"/><path d=\"M17.41 7.96l-1.37-1.37c-.4-.4-.92-.59-1.43-.59-.52 0-1.04.2-1.43.59L10.3 9.45l-7.72 7.72c-.78.78-.78 2.05 0 2.83L4 21.41c.39.39.9.59 1.41.59.51 0 1.02-.2 1.41-.59l7.78-7.78 2.81-2.81c.8-.78.8-2.07 0-2.86zM5.41 20L4 18.59l7.72-7.72 1.47 1.35L5.41 20z\"/>\n",
              "  </svg>\n",
              "      </button>\n",
              "      \n",
              "  <style>\n",
              "    .colab-df-container {\n",
              "      display:flex;\n",
              "      flex-wrap:wrap;\n",
              "      gap: 12px;\n",
              "    }\n",
              "\n",
              "    .colab-df-convert {\n",
              "      background-color: #E8F0FE;\n",
              "      border: none;\n",
              "      border-radius: 50%;\n",
              "      cursor: pointer;\n",
              "      display: none;\n",
              "      fill: #1967D2;\n",
              "      height: 32px;\n",
              "      padding: 0 0 0 0;\n",
              "      width: 32px;\n",
              "    }\n",
              "\n",
              "    .colab-df-convert:hover {\n",
              "      background-color: #E2EBFA;\n",
              "      box-shadow: 0px 1px 2px rgba(60, 64, 67, 0.3), 0px 1px 3px 1px rgba(60, 64, 67, 0.15);\n",
              "      fill: #174EA6;\n",
              "    }\n",
              "\n",
              "    [theme=dark] .colab-df-convert {\n",
              "      background-color: #3B4455;\n",
              "      fill: #D2E3FC;\n",
              "    }\n",
              "\n",
              "    [theme=dark] .colab-df-convert:hover {\n",
              "      background-color: #434B5C;\n",
              "      box-shadow: 0px 1px 3px 1px rgba(0, 0, 0, 0.15);\n",
              "      filter: drop-shadow(0px 1px 2px rgba(0, 0, 0, 0.3));\n",
              "      fill: #FFFFFF;\n",
              "    }\n",
              "  </style>\n",
              "\n",
              "      <script>\n",
              "        const buttonEl =\n",
              "          document.querySelector('#df-3694cf21-9bb5-45ce-93ad-cf1b95505a40 button.colab-df-convert');\n",
              "        buttonEl.style.display =\n",
              "          google.colab.kernel.accessAllowed ? 'block' : 'none';\n",
              "\n",
              "        async function convertToInteractive(key) {\n",
              "          const element = document.querySelector('#df-3694cf21-9bb5-45ce-93ad-cf1b95505a40');\n",
              "          const dataTable =\n",
              "            await google.colab.kernel.invokeFunction('convertToInteractive',\n",
              "                                                     [key], {});\n",
              "          if (!dataTable) return;\n",
              "\n",
              "          const docLinkHtml = 'Like what you see? Visit the ' +\n",
              "            '<a target=\"_blank\" href=https://colab.research.google.com/notebooks/data_table.ipynb>data table notebook</a>'\n",
              "            + ' to learn more about interactive tables.';\n",
              "          element.innerHTML = '';\n",
              "          dataTable['output_type'] = 'display_data';\n",
              "          await google.colab.output.renderOutput(dataTable, element);\n",
              "          const docLink = document.createElement('div');\n",
              "          docLink.innerHTML = docLinkHtml;\n",
              "          element.appendChild(docLink);\n",
              "        }\n",
              "      </script>\n",
              "    </div>\n",
              "  </div>\n",
              "  "
            ]
          },
          "metadata": {},
          "execution_count": 20
        }
      ]
    },
    {
      "cell_type": "code",
      "source": [
        "# Number of prompts for each label\n",
        "print(df.label.value_counts())"
      ],
      "metadata": {
        "colab": {
          "base_uri": "https://localhost:8080/"
        },
        "id": "RE0LRk6VrD7R",
        "outputId": "e1a6944a-04c3-4278-aacd-9ec67e9eba86"
      },
      "execution_count": 21,
      "outputs": [
        {
          "output_type": "stream",
          "name": "stdout",
          "text": [
            "information    24\n",
            "projects       22\n",
            "course         22\n",
            "greeting       21\n",
            "goodbye        21\n",
            "placements     21\n",
            "hostel         21\n",
            "fees           21\n",
            "clubs          20\n",
            "address        20\n",
            "library        19\n",
            "canteen        18\n",
            "admission      18\n",
            "events         17\n",
            "scholarship    16\n",
            "name           15\n",
            "hours          13\n",
            "Name: label, dtype: int64\n"
          ]
        }
      ]
    },
    {
      "cell_type": "code",
      "source": [
        "# Mapping label to a number \n",
        "n_labels = {}\n",
        "count = 0\n",
        "for label in df.label.unique():\n",
        "  n_labels[label] = count\n",
        "  count += 1\n",
        "print(n_labels)"
      ],
      "metadata": {
        "id": "IhKhND4zWF6x",
        "colab": {
          "base_uri": "https://localhost:8080/"
        },
        "outputId": "2b8beb80-d359-4771-ca54-c97990196a1d"
      },
      "execution_count": 22,
      "outputs": [
        {
          "output_type": "stream",
          "name": "stdout",
          "text": [
            "{'greeting': 0, 'name': 1, 'goodbye': 2, 'address': 3, 'course': 4, 'information': 5, 'library': 6, 'fees': 7, 'hours': 8, 'canteen': 9, 'scholarship': 10, 'projects': 11, 'admission': 12, 'hostel': 13, 'events': 14, 'placements': 15, 'clubs': 16}\n"
          ]
        }
      ]
    },
    {
      "cell_type": "code",
      "source": [
        "# Dictionary to map number to a label\n",
        "labelled_data = {}\n",
        "for keys, values in  n_labels.items():\n",
        "  labelled_data[values] = keys\n",
        "print(labelled_data)"
      ],
      "metadata": {
        "id": "J_XJ_xHT-bBb",
        "colab": {
          "base_uri": "https://localhost:8080/"
        },
        "outputId": "a14631b2-1c1f-462d-b1bd-758073c9be35"
      },
      "execution_count": 24,
      "outputs": [
        {
          "output_type": "stream",
          "name": "stdout",
          "text": [
            "{0: 'greeting', 1: 'name', 2: 'goodbye', 3: 'address', 4: 'course', 5: 'information', 6: 'library', 7: 'fees', 8: 'hours', 9: 'canteen', 10: 'scholarship', 11: 'projects', 12: 'admission', 13: 'hostel', 14: 'events', 15: 'placements', 16: 'clubs'}\n"
          ]
        }
      ]
    },
    {
      "cell_type": "code",
      "source": [
        "df['n_labels'] = df.label.map(n_labels)\n",
        "df.head()"
      ],
      "metadata": {
        "id": "YnO_xQjOXiY-",
        "colab": {
          "base_uri": "https://localhost:8080/",
          "height": 206
        },
        "outputId": "e629a432-5a9d-47c0-efc3-bd6d3c79fa65"
      },
      "execution_count": 25,
      "outputs": [
        {
          "output_type": "execute_result",
          "data": {
            "text/plain": [
              "      label               prompts     Lemmatized        Stemmed  \\\n",
              "0  greeting          Hello there!    hello there    hello there   \n",
              "1  greeting                 Hiiii          hiiii          hiiii   \n",
              "2  greeting  Hey, how's it going?  hey how it go  hey how it go   \n",
              "3  greeting         Anyone there?   anyone there    anyon there   \n",
              "4  greeting        Hey, stranger!   hey stranger   hey stranger   \n",
              "\n",
              "            Cleaned  n_labels  \n",
              "0       hello there         0  \n",
              "1             hiiii         0  \n",
              "2  hey how it going         0  \n",
              "3      anyone there         0  \n",
              "4      hey stranger         0  "
            ],
            "text/html": [
              "\n",
              "  <div id=\"df-7c5f847e-c14b-4a6e-9922-c65c5c6a36a1\">\n",
              "    <div class=\"colab-df-container\">\n",
              "      <div>\n",
              "<style scoped>\n",
              "    .dataframe tbody tr th:only-of-type {\n",
              "        vertical-align: middle;\n",
              "    }\n",
              "\n",
              "    .dataframe tbody tr th {\n",
              "        vertical-align: top;\n",
              "    }\n",
              "\n",
              "    .dataframe thead th {\n",
              "        text-align: right;\n",
              "    }\n",
              "</style>\n",
              "<table border=\"1\" class=\"dataframe\">\n",
              "  <thead>\n",
              "    <tr style=\"text-align: right;\">\n",
              "      <th></th>\n",
              "      <th>label</th>\n",
              "      <th>prompts</th>\n",
              "      <th>Lemmatized</th>\n",
              "      <th>Stemmed</th>\n",
              "      <th>Cleaned</th>\n",
              "      <th>n_labels</th>\n",
              "    </tr>\n",
              "  </thead>\n",
              "  <tbody>\n",
              "    <tr>\n",
              "      <th>0</th>\n",
              "      <td>greeting</td>\n",
              "      <td>Hello there!</td>\n",
              "      <td>hello there</td>\n",
              "      <td>hello there</td>\n",
              "      <td>hello there</td>\n",
              "      <td>0</td>\n",
              "    </tr>\n",
              "    <tr>\n",
              "      <th>1</th>\n",
              "      <td>greeting</td>\n",
              "      <td>Hiiii</td>\n",
              "      <td>hiiii</td>\n",
              "      <td>hiiii</td>\n",
              "      <td>hiiii</td>\n",
              "      <td>0</td>\n",
              "    </tr>\n",
              "    <tr>\n",
              "      <th>2</th>\n",
              "      <td>greeting</td>\n",
              "      <td>Hey, how's it going?</td>\n",
              "      <td>hey how it go</td>\n",
              "      <td>hey how it go</td>\n",
              "      <td>hey how it going</td>\n",
              "      <td>0</td>\n",
              "    </tr>\n",
              "    <tr>\n",
              "      <th>3</th>\n",
              "      <td>greeting</td>\n",
              "      <td>Anyone there?</td>\n",
              "      <td>anyone there</td>\n",
              "      <td>anyon there</td>\n",
              "      <td>anyone there</td>\n",
              "      <td>0</td>\n",
              "    </tr>\n",
              "    <tr>\n",
              "      <th>4</th>\n",
              "      <td>greeting</td>\n",
              "      <td>Hey, stranger!</td>\n",
              "      <td>hey stranger</td>\n",
              "      <td>hey stranger</td>\n",
              "      <td>hey stranger</td>\n",
              "      <td>0</td>\n",
              "    </tr>\n",
              "  </tbody>\n",
              "</table>\n",
              "</div>\n",
              "      <button class=\"colab-df-convert\" onclick=\"convertToInteractive('df-7c5f847e-c14b-4a6e-9922-c65c5c6a36a1')\"\n",
              "              title=\"Convert this dataframe to an interactive table.\"\n",
              "              style=\"display:none;\">\n",
              "        \n",
              "  <svg xmlns=\"http://www.w3.org/2000/svg\" height=\"24px\"viewBox=\"0 0 24 24\"\n",
              "       width=\"24px\">\n",
              "    <path d=\"M0 0h24v24H0V0z\" fill=\"none\"/>\n",
              "    <path d=\"M18.56 5.44l.94 2.06.94-2.06 2.06-.94-2.06-.94-.94-2.06-.94 2.06-2.06.94zm-11 1L8.5 8.5l.94-2.06 2.06-.94-2.06-.94L8.5 2.5l-.94 2.06-2.06.94zm10 10l.94 2.06.94-2.06 2.06-.94-2.06-.94-.94-2.06-.94 2.06-2.06.94z\"/><path d=\"M17.41 7.96l-1.37-1.37c-.4-.4-.92-.59-1.43-.59-.52 0-1.04.2-1.43.59L10.3 9.45l-7.72 7.72c-.78.78-.78 2.05 0 2.83L4 21.41c.39.39.9.59 1.41.59.51 0 1.02-.2 1.41-.59l7.78-7.78 2.81-2.81c.8-.78.8-2.07 0-2.86zM5.41 20L4 18.59l7.72-7.72 1.47 1.35L5.41 20z\"/>\n",
              "  </svg>\n",
              "      </button>\n",
              "      \n",
              "  <style>\n",
              "    .colab-df-container {\n",
              "      display:flex;\n",
              "      flex-wrap:wrap;\n",
              "      gap: 12px;\n",
              "    }\n",
              "\n",
              "    .colab-df-convert {\n",
              "      background-color: #E8F0FE;\n",
              "      border: none;\n",
              "      border-radius: 50%;\n",
              "      cursor: pointer;\n",
              "      display: none;\n",
              "      fill: #1967D2;\n",
              "      height: 32px;\n",
              "      padding: 0 0 0 0;\n",
              "      width: 32px;\n",
              "    }\n",
              "\n",
              "    .colab-df-convert:hover {\n",
              "      background-color: #E2EBFA;\n",
              "      box-shadow: 0px 1px 2px rgba(60, 64, 67, 0.3), 0px 1px 3px 1px rgba(60, 64, 67, 0.15);\n",
              "      fill: #174EA6;\n",
              "    }\n",
              "\n",
              "    [theme=dark] .colab-df-convert {\n",
              "      background-color: #3B4455;\n",
              "      fill: #D2E3FC;\n",
              "    }\n",
              "\n",
              "    [theme=dark] .colab-df-convert:hover {\n",
              "      background-color: #434B5C;\n",
              "      box-shadow: 0px 1px 3px 1px rgba(0, 0, 0, 0.15);\n",
              "      filter: drop-shadow(0px 1px 2px rgba(0, 0, 0, 0.3));\n",
              "      fill: #FFFFFF;\n",
              "    }\n",
              "  </style>\n",
              "\n",
              "      <script>\n",
              "        const buttonEl =\n",
              "          document.querySelector('#df-7c5f847e-c14b-4a6e-9922-c65c5c6a36a1 button.colab-df-convert');\n",
              "        buttonEl.style.display =\n",
              "          google.colab.kernel.accessAllowed ? 'block' : 'none';\n",
              "\n",
              "        async function convertToInteractive(key) {\n",
              "          const element = document.querySelector('#df-7c5f847e-c14b-4a6e-9922-c65c5c6a36a1');\n",
              "          const dataTable =\n",
              "            await google.colab.kernel.invokeFunction('convertToInteractive',\n",
              "                                                     [key], {});\n",
              "          if (!dataTable) return;\n",
              "\n",
              "          const docLinkHtml = 'Like what you see? Visit the ' +\n",
              "            '<a target=\"_blank\" href=https://colab.research.google.com/notebooks/data_table.ipynb>data table notebook</a>'\n",
              "            + ' to learn more about interactive tables.';\n",
              "          element.innerHTML = '';\n",
              "          dataTable['output_type'] = 'display_data';\n",
              "          await google.colab.output.renderOutput(dataTable, element);\n",
              "          const docLink = document.createElement('div');\n",
              "          docLink.innerHTML = docLinkHtml;\n",
              "          element.appendChild(docLink);\n",
              "        }\n",
              "      </script>\n",
              "    </div>\n",
              "  </div>\n",
              "  "
            ]
          },
          "metadata": {},
          "execution_count": 25
        }
      ]
    },
    {
      "cell_type": "code",
      "source": [
        "# Initializing a dictionary to map the best combo to a score\n",
        "scores = {}\n",
        "max_combo, max_score = '',0\n",
        "# Different preprocess algos to consider\n",
        "preprocess_algos = ['Stemmed','Cleaned','Lemmatized']\n",
        "# Different machine learning algos\n",
        "algorithms = [RandomForestClassifier(),MultinomialNB(),KNeighborsClassifier(),SGDClassifier()]\n",
        "# Different word embedding techniques\n",
        "word_emb = [TfidfVectorizer(), CountVectorizer()]\n",
        "best_model = ''\n",
        "for word_em in word_emb:\n",
        "  for model_algo in algorithms:\n",
        "    for preprocessor in preprocess_algos:\n",
        "      # Dividing the data into train and test\n",
        "      X_train, X_test, y_train, y_test = train_test_split(df[preprocessor], df.n_labels, test_size=0.2, random_state=43, stratify=df.n_labels)\n",
        "      # Developing a pipeline\n",
        "      # Word Embeddings -> Smote (To balance the data) -> Machine Learning\n",
        "      clf = Pipeline([\n",
        "        ('wb', word_em),\n",
        "        ('sm',over),\n",
        "        ('clf', model_algo)\n",
        "      ])\n",
        "      clf.fit(X_train,y_train)\n",
        "      y_pred = clf.predict(X_test)\n",
        "      # Developing the report\n",
        "      report = classification_report(y_test,y_pred,output_dict=True)\n",
        "      combo = f\"{preprocessor} + {model_algo} + {word_em}\"\n",
        "      scores[combo] = report['accuracy']\n",
        "      # Storing the best model\n",
        "      if report['accuracy'] > max_score:\n",
        "        max_score = report['accuracy']\n",
        "        max_combo = combo\n",
        "        best_model = clf\n",
        "\n",
        "\n",
        "\n",
        "print(max_combo, max_score)\n",
        "print(scores)\n"
      ],
      "metadata": {
        "colab": {
          "base_uri": "https://localhost:8080/"
        },
        "id": "4w9MQdZW2IkC",
        "outputId": "50b57c0a-ecdb-47df-edc9-b5f88b764b06"
      },
      "execution_count": 27,
      "outputs": [
        {
          "output_type": "stream",
          "name": "stdout",
          "text": [
            "Stemmed + MultinomialNB() + TfidfVectorizer() 0.9090909090909091\n",
            "{'Stemmed + RandomForestClassifier() + TfidfVectorizer()': 0.7424242424242424, 'Cleaned + RandomForestClassifier() + TfidfVectorizer()': 0.7121212121212122, 'Lemmatized + RandomForestClassifier() + TfidfVectorizer()': 0.7272727272727273, 'Stemmed + MultinomialNB() + TfidfVectorizer()': 0.9090909090909091, 'Cleaned + MultinomialNB() + TfidfVectorizer()': 0.8333333333333334, 'Lemmatized + MultinomialNB() + TfidfVectorizer()': 0.8333333333333334, 'Stemmed + KNeighborsClassifier() + TfidfVectorizer()': 0.7878787878787878, 'Cleaned + KNeighborsClassifier() + TfidfVectorizer()': 0.6818181818181818, 'Lemmatized + KNeighborsClassifier() + TfidfVectorizer()': 0.7121212121212122, 'Stemmed + SGDClassifier() + TfidfVectorizer()': 0.9090909090909091, 'Cleaned + SGDClassifier() + TfidfVectorizer()': 0.8484848484848485, 'Lemmatized + SGDClassifier() + TfidfVectorizer()': 0.8787878787878788, 'Stemmed + RandomForestClassifier() + CountVectorizer()': 0.7121212121212122, 'Cleaned + RandomForestClassifier() + CountVectorizer()': 0.6212121212121212, 'Lemmatized + RandomForestClassifier() + CountVectorizer()': 0.7121212121212122, 'Stemmed + MultinomialNB() + CountVectorizer()': 0.8333333333333334, 'Cleaned + MultinomialNB() + CountVectorizer()': 0.7424242424242424, 'Lemmatized + MultinomialNB() + CountVectorizer()': 0.7878787878787878, 'Stemmed + KNeighborsClassifier() + CountVectorizer()': 0.45454545454545453, 'Cleaned + KNeighborsClassifier() + CountVectorizer()': 0.3939393939393939, 'Lemmatized + KNeighborsClassifier() + CountVectorizer()': 0.3484848484848485, 'Stemmed + SGDClassifier() + CountVectorizer()': 0.7878787878787878, 'Cleaned + SGDClassifier() + CountVectorizer()': 0.803030303030303, 'Lemmatized + SGDClassifier() + CountVectorizer()': 0.7272727272727273}\n"
          ]
        }
      ]
    },
    {
      "cell_type": "code",
      "source": [
        "X_train, X_test, y_train, y_test = train_test_split(df['Stemmed'], df.n_labels, test_size=0.2, random_state=43, stratify=df.n_labels)\n",
        "\n",
        "clf = Pipeline([\n",
        "  ('wb', TfidfVectorizer()),\n",
        "  ('sm',over),\n",
        "  ('clf', MultinomialNB())\n",
        "])\n",
        "clf.fit(X_train,y_train)\n",
        "y_pred = clf.predict(X_test)\n",
        "\n",
        "report = classification_report(y_test,y_pred)\n",
        "print(report)"
      ],
      "metadata": {
        "colab": {
          "base_uri": "https://localhost:8080/"
        },
        "id": "vAu-dSs6twkI",
        "outputId": "5a872d8f-2aee-4cda-9982-13a25933a307"
      },
      "execution_count": 28,
      "outputs": [
        {
          "output_type": "stream",
          "name": "stdout",
          "text": [
            "              precision    recall  f1-score   support\n",
            "\n",
            "           0       0.50      0.75      0.60         4\n",
            "           1       0.60      1.00      0.75         3\n",
            "           2       1.00      0.75      0.86         4\n",
            "           3       1.00      1.00      1.00         4\n",
            "           4       1.00      0.80      0.89         5\n",
            "           5       1.00      1.00      1.00         5\n",
            "           6       1.00      1.00      1.00         4\n",
            "           7       1.00      1.00      1.00         4\n",
            "           8       1.00      0.67      0.80         3\n",
            "           9       1.00      0.75      0.86         4\n",
            "          10       0.75      1.00      0.86         3\n",
            "          11       1.00      1.00      1.00         4\n",
            "          12       1.00      1.00      1.00         4\n",
            "          13       1.00      0.75      0.86         4\n",
            "          14       1.00      1.00      1.00         3\n",
            "          15       1.00      1.00      1.00         4\n",
            "          16       1.00      1.00      1.00         4\n",
            "\n",
            "    accuracy                           0.91        66\n",
            "   macro avg       0.93      0.91      0.91        66\n",
            "weighted avg       0.94      0.91      0.91        66\n",
            "\n"
          ]
        }
      ]
    },
    {
      "cell_type": "code",
      "source": [
        "p = clf.predict_proba([preprocess('Hello who are you')])\n",
        "print(p)\n",
        "print(np.argmax(p))\n",
        "print(labelled_data[np.argmax(p)])"
      ],
      "metadata": {
        "colab": {
          "base_uri": "https://localhost:8080/"
        },
        "id": "RUOyBUou-H3q",
        "outputId": "c6b9a0ea-7ca2-4aa9-ac5e-4d5560e302e0"
      },
      "execution_count": 34,
      "outputs": [
        {
          "output_type": "stream",
          "name": "stdout",
          "text": [
            "[[0.0957032  0.26092109 0.05077774 0.0338293  0.05836082 0.04993282\n",
            "  0.04466297 0.03272523 0.05198019 0.03430989 0.03899306 0.03382504\n",
            "  0.04957859 0.0423742  0.0324946  0.03433114 0.05520012]]\n",
            "1\n",
            "name\n"
          ]
        }
      ]
    },
    {
      "cell_type": "code",
      "source": [
        "p = clf.predict_proba([preprocess('library timings')])\n",
        "print(p)\n",
        "print(np.argmax(p))\n",
        "print(labelled_data[np.argmax(p)])"
      ],
      "metadata": {
        "colab": {
          "base_uri": "https://localhost:8080/"
        },
        "id": "fLbUZF8IxUWn",
        "outputId": "057e4877-62ab-442b-d818-d8348fb9b070"
      },
      "execution_count": 35,
      "outputs": [
        {
          "output_type": "stream",
          "name": "stdout",
          "text": [
            "[[0.03561409 0.03403605 0.0477227  0.03468138 0.03398498 0.03282164\n",
            "  0.39524843 0.03386364 0.08407447 0.03503498 0.03454002 0.03467824\n",
            "  0.03228528 0.03251909 0.03369185 0.03341149 0.03179168]]\n",
            "6\n",
            "library\n"
          ]
        }
      ]
    },
    {
      "cell_type": "code",
      "source": [
        "p = clf.predict_proba([preprocess('Help with the scolarship')])\n",
        "print(p)\n",
        "print(np.argmax(p))\n",
        "print(labelled_data[np.argmax(p)])"
      ],
      "metadata": {
        "colab": {
          "base_uri": "https://localhost:8080/"
        },
        "id": "nV9TwmB0yGWK",
        "outputId": "4b491896-a1b7-4f22-a66c-c84655c7a345"
      },
      "execution_count": 39,
      "outputs": [
        {
          "output_type": "stream",
          "name": "stdout",
          "text": [
            "[[0.04170691 0.04147458 0.06213583 0.04977953 0.05069507 0.06529785\n",
            "  0.05623343 0.05932852 0.08854534 0.04859532 0.1011276  0.04600091\n",
            "  0.05008224 0.05060061 0.04573244 0.06317254 0.07949129]]\n",
            "10\n",
            "scholarship\n"
          ]
        }
      ]
    },
    {
      "cell_type": "code",
      "source": [
        "p = clf.predict_proba([preprocess('dggdn')])\n",
        "print(p)\n",
        "print(np.argmax(p))\n",
        "print(labelled_data[np.argmax(p)])"
      ],
      "metadata": {
        "colab": {
          "base_uri": "https://localhost:8080/"
        },
        "id": "lzTp3fvmx5PS",
        "outputId": "3df2db44-2b83-4353-f653-77a188dcda93"
      },
      "execution_count": 38,
      "outputs": [
        {
          "output_type": "stream",
          "name": "stdout",
          "text": [
            "[[0.05882353 0.05882353 0.05882353 0.05882353 0.05882353 0.05882353\n",
            "  0.05882353 0.05882353 0.05882353 0.05882353 0.05882353 0.05882353\n",
            "  0.05882353 0.05882353 0.05882353 0.05882353 0.05882353]]\n",
            "0\n",
            "greeting\n"
          ]
        }
      ]
    },
    {
      "cell_type": "code",
      "source": [
        "# Saving the model to a file\n",
        "import pickle\n",
        "filename = 'finalized_model.sav'\n",
        "pickle.dump(clf, open(filename, 'wb'))"
      ],
      "metadata": {
        "id": "RylCVivErtKB"
      },
      "execution_count": null,
      "outputs": []
    }
  ]
}